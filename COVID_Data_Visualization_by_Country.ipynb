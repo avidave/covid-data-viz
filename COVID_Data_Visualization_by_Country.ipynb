{
 "cells": [
  {
   "cell_type": "code",
   "execution_count": null,
   "metadata": {},
   "outputs": [],
   "source": [
    "import dash\n",
    "import dash_core_components as dcc\n",
    "import dash_html_components as html\n",
    "from dash.dependencies import Input, Output\n",
    "import plotly.graph_objects as go\n",
    "import pyodbc as pd\n",
    "\n",
    "server = '<Host Name>'\n",
    "database = 'covid-19-john-hopkins'\n",
    "username = 'SQLID'\n",
    "password = 'SQLPassword'\n",
    "\n",
    "cnxn = pd.connect('DRIVER={ODBC Driver 17 for SQL Server};SERVER=' + server +\n",
    "                     ';DATABASE=' + database + ';UID=' + username + ';PWD=' + password +\n",
    "                      ';TRUSTED_CONNECTION=yes;', autocommit=True)\n",
    "cursor = cnxn.cursor()\n",
    "\n",
    "data = cursor.execute(\"\"\"\n",
    "select top(10) Country_Region, Total_Confirmed from \n",
    "[dbo].[vw-case-per-month] where month = 6 and year = 2021 order by Total_Confirmed desc;\n",
    "\"\"\").fetchall()\n",
    "\n",
    "print(data)\n",
    "\n",
    "country_region, total_confirmed = [], []\n",
    "\n",
    "for tup in data :\n",
    "    country, cases = tup\n",
    "    country_region.append(country)\n",
    "    total_confirmed.append(cases)\n",
    "\n",
    "print(2021, 6, country_region, total_confirmed, sep = '\\n\\n')\n",
    "\n",
    "cursor.close()\n",
    "cnxn.close()"
   ]
  },
  {
   "cell_type": "code",
   "execution_count": null,
   "metadata": {},
   "outputs": [],
   "source": [
    "app = dash.Dash(__name__)\n",
    "\n",
    "app.layout = html.Div([\n",
    "    html.P(\"Colour:\"),\n",
    "    dcc.Dropdown(\n",
    "        id=\"dropdown\",\n",
    "        options=[\n",
    "            {'label': x, 'value': x}\n",
    "            for x in country_region\n",
    "        ],\n",
    "        value='Gold',\n",
    "        clearable=False,\n",
    "    ),\n",
    "    dcc.Graph(id=\"graph\"),\n",
    "])\n",
    "\n",
    "@app.callback(\n",
    "    Output(\"graph\", \"figure\"), \n",
    "    [Input(\"dropdown\", \"value\")])\n",
    "def display_color(color):\n",
    "    fig = go.Figure(\n",
    "        data=go.Bar(x=country_region, y=total_confirmed, marker_color=color))\n",
    "    return fig\n",
    "\n",
    "app.run_server(debug=False)"
   ]
  }
 ],
 "metadata": {
  "kernelspec": {
   "display_name": "Python 3",
   "language": "python",
   "name": "python3"
  },
  "language_info": {
   "codemirror_mode": {
    "name": "ipython",
    "version": 3
   },
   "file_extension": ".py",
   "mimetype": "text/x-python",
   "name": "python",
   "nbconvert_exporter": "python",
   "pygments_lexer": "ipython3",
   "version": "3.8.5"
  }
 },
 "nbformat": 4,
 "nbformat_minor": 4
}
